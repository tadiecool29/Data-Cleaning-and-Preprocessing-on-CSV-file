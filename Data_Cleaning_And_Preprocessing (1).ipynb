{
 "cells": [
  {
   "cell_type": "markdown",
   "id": "060f3117",
   "metadata": {},
   "source": [
    "\n"
   ]
  },
  {
   "cell_type": "markdown",
   "id": "85012a13",
   "metadata": {},
   "source": [
    "# 1. Import Libraries"
   ]
  },
  {
   "cell_type": "raw",
   "id": "362d62c5",
   "metadata": {},
   "source": [
    "pandas: Provides data structures, mainly DataFrames, for handling and manipulating data easily. Used for reading, analyzing, and transforming datasets.\n",
    "numpy: Fundamental library for numerical operations in Python, especially for handling arrays and performing mathematical computations on them.\n",
    "seaborn: High-level data visualization library based on matplotlib. It provides a cleaner, more aesthetically pleasing way to visualize statistical data.\n",
    "matplotlib.pyplot: Core library for creating static, animated, and interactive visualizations in Python."
   ]
  },
  {
   "cell_type": "raw",
   "id": "b9a75aa0",
   "metadata": {},
   "source": [
    "scipy.stats: A module within SciPy for statistical functions, such as hypothesis tests, probability distributions, and correlation calculations.\n",
    "MinMaxScaler from sklearn.preprocessing: Scales features to a specific range, usually [0, 1]. Useful for normalizing data before applying machine learning algorithms.\n",
    "chi2, mutual_info_classif, and SelectKBest from sklearn.feature_selection: Used for feature selection in machine learning. chi2 and mutual_info_classif provide statistical tests to evaluate features, and SelectKBest selects the top k features based on their scores.\n",
    "LabelEncoder from sklearn.preprocessing: Encodes categorical labels as numeric values, which is useful for preparing categorical data for machine learning algorithms."
   ]
  },
  {
   "cell_type": "code",
   "execution_count": 1,
   "id": "1e332e25",
   "metadata": {},
   "outputs": [],
   "source": [
    "import pandas as pd\n",
    "import numpy as np\n",
    "from sklearn.preprocessing import MinMaxScaler\n",
    "from sklearn.preprocessing import StandardScaler\n",
    "import seaborn as sns\n",
    "import scipy\n",
    "import matplotlib.pyplot as plt\n",
    "from scipy import stats\n",
    "from sklearn.feature_selection import SelectKBest, mutual_info_classif, chi2\n",
    "from sklearn.preprocessing import LabelEncoder\n",
    "import datetime\n",
    "from sklearn.model_selection import train_test_split\n",
    "from imblearn.over_sampling import SMOTE\n",
    "from sklearn.ensemble import RandomForestClassifier\n",
    "from sklearn.metrics import classification_report"
   ]
  },
  {
   "cell_type": "markdown",
   "id": "b04db275",
   "metadata": {},
   "source": [
    "# 2. Loading dataset"
   ]
  },
  {
   "cell_type": "raw",
   "id": "616e872e",
   "metadata": {},
   "source": [
    "Loading an Excel file named \"RTA.xlsx\" into a DataFrame with pandas "
   ]
  },
  {
   "cell_type": "code",
   "execution_count": 2,
   "id": "7cd4b6af",
   "metadata": {},
   "outputs": [],
   "source": [
    "df = pd.read_excel('RTA.xlsx')"
   ]
  },
  {
   "cell_type": "markdown",
   "id": "eed9e47c",
   "metadata": {},
   "source": [
    "# 3. Data Inspection : Overview the Structure and Content of Your Dataset"
   ]
  },
  {
   "cell_type": "raw",
   "id": "daf67a1d",
   "metadata": {},
   "source": [
    "Displaying the first few rows using df.head(). This code will show the top 5 rows by default, providing a quick overview of the data structure and content."
   ]
  },
  {
   "cell_type": "code",
   "execution_count": 3,
   "id": "4d54e6d3",
   "metadata": {},
   "outputs": [
    {
     "data": {
      "text/html": [
       "<div>\n",
       "<style scoped>\n",
       "    .dataframe tbody tr th:only-of-type {\n",
       "        vertical-align: middle;\n",
       "    }\n",
       "\n",
       "    .dataframe tbody tr th {\n",
       "        vertical-align: top;\n",
       "    }\n",
       "\n",
       "    .dataframe thead th {\n",
       "        text-align: right;\n",
       "    }\n",
       "</style>\n",
       "<table border=\"1\" class=\"dataframe\">\n",
       "  <thead>\n",
       "    <tr style=\"text-align: right;\">\n",
       "      <th></th>\n",
       "      <th>S/N0</th>\n",
       "      <th>time</th>\n",
       "      <th>day</th>\n",
       "      <th>driv_age</th>\n",
       "      <th>sex</th>\n",
       "      <th>driv_expe</th>\n",
       "      <th>type_of_vehcle</th>\n",
       "      <th>service_year</th>\n",
       "      <th>location</th>\n",
       "      <th>road_cond</th>\n",
       "      <th>light_cond</th>\n",
       "      <th>weather_cond</th>\n",
       "      <th>casuality_class</th>\n",
       "      <th>causality_age</th>\n",
       "      <th>causality_sex</th>\n",
       "      <th>severity</th>\n",
       "    </tr>\n",
       "  </thead>\n",
       "  <tbody>\n",
       "    <tr>\n",
       "      <th>0</th>\n",
       "      <td>1</td>\n",
       "      <td>20:00:00</td>\n",
       "      <td>Saturday</td>\n",
       "      <td>27.0</td>\n",
       "      <td>male</td>\n",
       "      <td>6.0</td>\n",
       "      <td>bus</td>\n",
       "      <td>9.0</td>\n",
       "      <td>orgn</td>\n",
       "      <td>dry</td>\n",
       "      <td>darkness</td>\n",
       "      <td>cold</td>\n",
       "      <td>NaN</td>\n",
       "      <td>52.0</td>\n",
       "      <td>male</td>\n",
       "      <td>serious</td>\n",
       "    </tr>\n",
       "    <tr>\n",
       "      <th>1</th>\n",
       "      <td>2</td>\n",
       "      <td>20:00:00</td>\n",
       "      <td>Saturday</td>\n",
       "      <td>40.0</td>\n",
       "      <td>male</td>\n",
       "      <td>NaN</td>\n",
       "      <td>automobile</td>\n",
       "      <td>24.0</td>\n",
       "      <td>orgn</td>\n",
       "      <td>dry</td>\n",
       "      <td>darkness</td>\n",
       "      <td>cold</td>\n",
       "      <td>NaN</td>\n",
       "      <td>32.0</td>\n",
       "      <td>male</td>\n",
       "      <td>serious</td>\n",
       "    </tr>\n",
       "    <tr>\n",
       "      <th>2</th>\n",
       "      <td>3</td>\n",
       "      <td>10:30:00</td>\n",
       "      <td>Thursday</td>\n",
       "      <td>27.0</td>\n",
       "      <td>male</td>\n",
       "      <td>NaN</td>\n",
       "      <td>truck</td>\n",
       "      <td>3.0</td>\n",
       "      <td>orgn</td>\n",
       "      <td>dry</td>\n",
       "      <td>daylight</td>\n",
       "      <td>sunlight</td>\n",
       "      <td>pedistrian</td>\n",
       "      <td>20.0</td>\n",
       "      <td>male</td>\n",
       "      <td>serious</td>\n",
       "    </tr>\n",
       "    <tr>\n",
       "      <th>3</th>\n",
       "      <td>4</td>\n",
       "      <td>NaN</td>\n",
       "      <td>Saturday</td>\n",
       "      <td>27.0</td>\n",
       "      <td>male</td>\n",
       "      <td>NaN</td>\n",
       "      <td>truck</td>\n",
       "      <td>10.0</td>\n",
       "      <td>market</td>\n",
       "      <td>dry</td>\n",
       "      <td>daylight</td>\n",
       "      <td>cold</td>\n",
       "      <td>prodamage</td>\n",
       "      <td>55.0</td>\n",
       "      <td>male</td>\n",
       "      <td>serious</td>\n",
       "    </tr>\n",
       "    <tr>\n",
       "      <th>4</th>\n",
       "      <td>5</td>\n",
       "      <td>08:10:00</td>\n",
       "      <td>Sunday</td>\n",
       "      <td>45.0</td>\n",
       "      <td>male</td>\n",
       "      <td>NaN</td>\n",
       "      <td>automobile</td>\n",
       "      <td>10.0</td>\n",
       "      <td>Station</td>\n",
       "      <td>dry</td>\n",
       "      <td>daylight</td>\n",
       "      <td>sunlight</td>\n",
       "      <td>pedistrian</td>\n",
       "      <td>25.0</td>\n",
       "      <td>male</td>\n",
       "      <td>serious</td>\n",
       "    </tr>\n",
       "  </tbody>\n",
       "</table>\n",
       "</div>"
      ],
      "text/plain": [
       "   S/N0      time        day  driv_age  sex   driv_expe type_of_vehcle  \\\n",
       "0     1  20:00:00  Saturday       27.0  male        6.0            bus   \n",
       "1     2  20:00:00  Saturday       40.0  male        NaN     automobile   \n",
       "2     3  10:30:00   Thursday      27.0  male        NaN          truck   \n",
       "3     4       NaN  Saturday       27.0  male        NaN          truck   \n",
       "4     5  08:10:00    Sunday       45.0  male        NaN     automobile   \n",
       "\n",
       "   service_year  location road_cond light_cond weather_cond  casuality_class  \\\n",
       "0            9.0     orgn       dry   darkness          cold             NaN   \n",
       "1           24.0     orgn       dry   darkness          cold             NaN   \n",
       "2            3.0     orgn       dry   daylight      sunlight      pedistrian   \n",
       "3           10.0   market       dry   daylight          cold       prodamage   \n",
       "4           10.0  Station       dry   daylight      sunlight      pedistrian   \n",
       "\n",
       "   causality_age  causality_sex severity   \n",
       "0            52.0          male   serious  \n",
       "1            32.0          male   serious  \n",
       "2            20.0          male   serious  \n",
       "3            55.0          male   serious  \n",
       "4            25.0          male   serious  "
      ]
     },
     "execution_count": 3,
     "metadata": {},
     "output_type": "execute_result"
    }
   ],
   "source": [
    "df.head()"
   ]
  },
  {
   "cell_type": "raw",
   "id": "44101c84",
   "metadata": {},
   "source": [
    "df.tail(): \n",
    "Displays the last 5 rows of the DataFrame by default. This can help you see the end of the dataset, which can be useful if there are any end-of-file artifacts or if you want to check how the data concludes."
   ]
  },
  {
   "cell_type": "code",
   "execution_count": 4,
   "id": "d07e5562",
   "metadata": {},
   "outputs": [
    {
     "data": {
      "text/html": [
       "<div>\n",
       "<style scoped>\n",
       "    .dataframe tbody tr th:only-of-type {\n",
       "        vertical-align: middle;\n",
       "    }\n",
       "\n",
       "    .dataframe tbody tr th {\n",
       "        vertical-align: top;\n",
       "    }\n",
       "\n",
       "    .dataframe thead th {\n",
       "        text-align: right;\n",
       "    }\n",
       "</style>\n",
       "<table border=\"1\" class=\"dataframe\">\n",
       "  <thead>\n",
       "    <tr style=\"text-align: right;\">\n",
       "      <th></th>\n",
       "      <th>S/N0</th>\n",
       "      <th>time</th>\n",
       "      <th>day</th>\n",
       "      <th>driv_age</th>\n",
       "      <th>sex</th>\n",
       "      <th>driv_expe</th>\n",
       "      <th>type_of_vehcle</th>\n",
       "      <th>service_year</th>\n",
       "      <th>location</th>\n",
       "      <th>road_cond</th>\n",
       "      <th>light_cond</th>\n",
       "      <th>weather_cond</th>\n",
       "      <th>casuality_class</th>\n",
       "      <th>causality_age</th>\n",
       "      <th>causality_sex</th>\n",
       "      <th>severity</th>\n",
       "    </tr>\n",
       "  </thead>\n",
       "  <tbody>\n",
       "    <tr>\n",
       "      <th>105</th>\n",
       "      <td>106</td>\n",
       "      <td>17:30:00</td>\n",
       "      <td>Monday</td>\n",
       "      <td>30.0</td>\n",
       "      <td>male</td>\n",
       "      <td>9.0</td>\n",
       "      <td>bus</td>\n",
       "      <td>1.0</td>\n",
       "      <td>orgn</td>\n",
       "      <td>dry</td>\n",
       "      <td>daylight</td>\n",
       "      <td>good</td>\n",
       "      <td>prodamage</td>\n",
       "      <td>30.0</td>\n",
       "      <td>male</td>\n",
       "      <td>serious</td>\n",
       "    </tr>\n",
       "    <tr>\n",
       "      <th>106</th>\n",
       "      <td>107</td>\n",
       "      <td>12:05:00</td>\n",
       "      <td>Tuesday</td>\n",
       "      <td>32.0</td>\n",
       "      <td>male</td>\n",
       "      <td>3.0</td>\n",
       "      <td>bus</td>\n",
       "      <td>10.0</td>\n",
       "      <td>orgn</td>\n",
       "      <td>dry</td>\n",
       "      <td>daylight</td>\n",
       "      <td>good</td>\n",
       "      <td>prodamage</td>\n",
       "      <td>21.0</td>\n",
       "      <td>male</td>\n",
       "      <td>serious</td>\n",
       "    </tr>\n",
       "    <tr>\n",
       "      <th>107</th>\n",
       "      <td>108</td>\n",
       "      <td>22:00:00</td>\n",
       "      <td>Thursday</td>\n",
       "      <td>26.0</td>\n",
       "      <td>male</td>\n",
       "      <td>5.0</td>\n",
       "      <td>automobile</td>\n",
       "      <td>10.0</td>\n",
       "      <td>orgn</td>\n",
       "      <td>dry</td>\n",
       "      <td>nightlight</td>\n",
       "      <td>good</td>\n",
       "      <td>prodamage</td>\n",
       "      <td>23.0</td>\n",
       "      <td>male</td>\n",
       "      <td>serious</td>\n",
       "    </tr>\n",
       "    <tr>\n",
       "      <th>108</th>\n",
       "      <td>109</td>\n",
       "      <td>10:30:00</td>\n",
       "      <td>Monday</td>\n",
       "      <td>37.0</td>\n",
       "      <td>male</td>\n",
       "      <td>5.0</td>\n",
       "      <td>automobile</td>\n",
       "      <td>10.0</td>\n",
       "      <td>orgn</td>\n",
       "      <td>dry</td>\n",
       "      <td>daylight</td>\n",
       "      <td>good</td>\n",
       "      <td>prodamage</td>\n",
       "      <td>48.0</td>\n",
       "      <td>male</td>\n",
       "      <td>serious</td>\n",
       "    </tr>\n",
       "    <tr>\n",
       "      <th>109</th>\n",
       "      <td>110</td>\n",
       "      <td>14:00:00</td>\n",
       "      <td>Saturday</td>\n",
       "      <td>45.0</td>\n",
       "      <td>male</td>\n",
       "      <td>30.0</td>\n",
       "      <td>automobile</td>\n",
       "      <td>1.0</td>\n",
       "      <td>market</td>\n",
       "      <td>dry</td>\n",
       "      <td>daylight</td>\n",
       "      <td>good</td>\n",
       "      <td>prodamage</td>\n",
       "      <td>51.0</td>\n",
       "      <td>male</td>\n",
       "      <td>serious</td>\n",
       "    </tr>\n",
       "  </tbody>\n",
       "</table>\n",
       "</div>"
      ],
      "text/plain": [
       "     S/N0      time        day  driv_age  sex   driv_expe type_of_vehcle  \\\n",
       "105   106  17:30:00    Monday       30.0  male        9.0            bus   \n",
       "106   107  12:05:00    Tuesday      32.0  male        3.0            bus   \n",
       "107   108  22:00:00   Thursday      26.0  male        5.0     automobile   \n",
       "108   109  10:30:00    Monday       37.0  male        5.0     automobile   \n",
       "109   110  14:00:00  Saturday       45.0  male       30.0     automobile   \n",
       "\n",
       "     service_year  location road_cond  light_cond weather_cond   \\\n",
       "105            1.0     orgn       dry    daylight          good   \n",
       "106           10.0     orgn       dry    daylight          good   \n",
       "107           10.0     orgn       dry  nightlight          good   \n",
       "108           10.0     orgn       dry    daylight          good   \n",
       "109            1.0   market       dry    daylight          good   \n",
       "\n",
       "    casuality_class  causality_age  causality_sex severity   \n",
       "105       prodamage            30.0          male   serious  \n",
       "106       prodamage            21.0          male   serious  \n",
       "107       prodamage            23.0          male   serious  \n",
       "108       prodamage            48.0          male   serious  \n",
       "109       prodamage            51.0          male   serious  "
      ]
     },
     "execution_count": 4,
     "metadata": {},
     "output_type": "execute_result"
    }
   ],
   "source": [
    "df.tail()"
   ]
  },
  {
   "cell_type": "raw",
   "id": "0822e5bf",
   "metadata": {},
   "source": [
    "Displaying the shape of our dataset, how many rows and columns we have."
   ]
  },
  {
   "cell_type": "code",
   "execution_count": 5,
   "id": "f55ec7bc",
   "metadata": {},
   "outputs": [
    {
     "data": {
      "text/plain": [
       "(110, 16)"
      ]
     },
     "execution_count": 5,
     "metadata": {},
     "output_type": "execute_result"
    }
   ],
   "source": [
    "df.shape"
   ]
  },
  {
   "cell_type": "raw",
   "id": "41cca5a5",
   "metadata": {},
   "source": [
    "df.describe(): Provides summary statistics of numeric columns in the DataFrame, such as mean, median, standard deviation, min, max, and quartiles. It’s useful for a quick quantitative assessment of the dataset’s numerical features."
   ]
  },
  {
   "cell_type": "code",
   "execution_count": 6,
   "id": "705fd588",
   "metadata": {},
   "outputs": [
    {
     "data": {
      "text/html": [
       "<div>\n",
       "<style scoped>\n",
       "    .dataframe tbody tr th:only-of-type {\n",
       "        vertical-align: middle;\n",
       "    }\n",
       "\n",
       "    .dataframe tbody tr th {\n",
       "        vertical-align: top;\n",
       "    }\n",
       "\n",
       "    .dataframe thead th {\n",
       "        text-align: right;\n",
       "    }\n",
       "</style>\n",
       "<table border=\"1\" class=\"dataframe\">\n",
       "  <thead>\n",
       "    <tr style=\"text-align: right;\">\n",
       "      <th></th>\n",
       "      <th>S/N0</th>\n",
       "      <th>driv_age</th>\n",
       "      <th>driv_expe</th>\n",
       "      <th>service_year</th>\n",
       "      <th>causality_age</th>\n",
       "    </tr>\n",
       "  </thead>\n",
       "  <tbody>\n",
       "    <tr>\n",
       "      <th>count</th>\n",
       "      <td>110.000000</td>\n",
       "      <td>104.000000</td>\n",
       "      <td>76.000000</td>\n",
       "      <td>96.000000</td>\n",
       "      <td>103.000000</td>\n",
       "    </tr>\n",
       "    <tr>\n",
       "      <th>mean</th>\n",
       "      <td>55.500000</td>\n",
       "      <td>34.278846</td>\n",
       "      <td>9.592105</td>\n",
       "      <td>9.500000</td>\n",
       "      <td>39.038835</td>\n",
       "    </tr>\n",
       "    <tr>\n",
       "      <th>std</th>\n",
       "      <td>31.898276</td>\n",
       "      <td>10.351546</td>\n",
       "      <td>7.831862</td>\n",
       "      <td>4.523622</td>\n",
       "      <td>16.004241</td>\n",
       "    </tr>\n",
       "    <tr>\n",
       "      <th>min</th>\n",
       "      <td>1.000000</td>\n",
       "      <td>16.000000</td>\n",
       "      <td>0.000000</td>\n",
       "      <td>1.000000</td>\n",
       "      <td>7.000000</td>\n",
       "    </tr>\n",
       "    <tr>\n",
       "      <th>25%</th>\n",
       "      <td>28.250000</td>\n",
       "      <td>27.000000</td>\n",
       "      <td>5.000000</td>\n",
       "      <td>9.750000</td>\n",
       "      <td>28.000000</td>\n",
       "    </tr>\n",
       "    <tr>\n",
       "      <th>50%</th>\n",
       "      <td>55.500000</td>\n",
       "      <td>31.000000</td>\n",
       "      <td>7.000000</td>\n",
       "      <td>10.000000</td>\n",
       "      <td>35.000000</td>\n",
       "    </tr>\n",
       "    <tr>\n",
       "      <th>75%</th>\n",
       "      <td>82.750000</td>\n",
       "      <td>40.000000</td>\n",
       "      <td>10.000000</td>\n",
       "      <td>10.000000</td>\n",
       "      <td>50.000000</td>\n",
       "    </tr>\n",
       "    <tr>\n",
       "      <th>max</th>\n",
       "      <td>110.000000</td>\n",
       "      <td>59.000000</td>\n",
       "      <td>35.000000</td>\n",
       "      <td>25.000000</td>\n",
       "      <td>85.000000</td>\n",
       "    </tr>\n",
       "  </tbody>\n",
       "</table>\n",
       "</div>"
      ],
      "text/plain": [
       "             S/N0    driv_age  driv_expe  service_year   causality_age \n",
       "count  110.000000  104.000000  76.000000      96.000000      103.000000\n",
       "mean    55.500000   34.278846   9.592105       9.500000       39.038835\n",
       "std     31.898276   10.351546   7.831862       4.523622       16.004241\n",
       "min      1.000000   16.000000   0.000000       1.000000        7.000000\n",
       "25%     28.250000   27.000000   5.000000       9.750000       28.000000\n",
       "50%     55.500000   31.000000   7.000000      10.000000       35.000000\n",
       "75%     82.750000   40.000000  10.000000      10.000000       50.000000\n",
       "max    110.000000   59.000000  35.000000      25.000000       85.000000"
      ]
     },
     "execution_count": 6,
     "metadata": {},
     "output_type": "execute_result"
    }
   ],
   "source": [
    "df.describe()"
   ]
  },
  {
   "cell_type": "raw",
   "id": "59732328",
   "metadata": {},
   "source": [
    "df.info(): Displays a concise summary of the DataFrame, including the total number of entries, column names, data types, and non-null counts. It helps to understand the dataset’s structure and find any columns with missing values.\n",
    "\n",
    "df.dtypes: This will show the data type of each column in the DataFrame."
   ]
  },
  {
   "cell_type": "code",
   "execution_count": 7,
   "id": "8ab0166c",
   "metadata": {},
   "outputs": [
    {
     "name": "stdout",
     "output_type": "stream",
     "text": [
      "<class 'pandas.core.frame.DataFrame'>\n",
      "RangeIndex: 110 entries, 0 to 109\n",
      "Data columns (total 16 columns):\n",
      " #   Column           Non-Null Count  Dtype  \n",
      "---  ------           --------------  -----  \n",
      " 0   S/N0             110 non-null    int64  \n",
      " 1   time             106 non-null    object \n",
      " 2   day              110 non-null    object \n",
      " 3   driv_age         104 non-null    float64\n",
      " 4   sex              106 non-null    object \n",
      " 5   driv_expe        76 non-null     float64\n",
      " 6   type_of_vehcle   99 non-null     object \n",
      " 7   service_year     96 non-null     float64\n",
      " 8   location         106 non-null    object \n",
      " 9   road_cond        107 non-null    object \n",
      " 10  light_cond       104 non-null    object \n",
      " 11  weather_cond     110 non-null    object \n",
      " 12  casuality_class  94 non-null     object \n",
      " 13  causality_age    103 non-null    float64\n",
      " 14  causality_sex    105 non-null    object \n",
      " 15  severity         108 non-null    object \n",
      "dtypes: float64(4), int64(1), object(11)\n",
      "memory usage: 13.9+ KB\n"
     ]
    }
   ],
   "source": [
    "df.info()"
   ]
  },
  {
   "cell_type": "raw",
   "id": "caf0b524",
   "metadata": {},
   "source": [
    "df.isnull().sum(): Returns the count of missing (null) values for each column in the DataFrame. This is crucial for identifying columns that may need cleaning or imputation."
   ]
  },
  {
   "cell_type": "code",
   "execution_count": 8,
   "id": "c9f59a11",
   "metadata": {},
   "outputs": [
    {
     "data": {
      "text/plain": [
       "S/N0                0\n",
       "time                4\n",
       "day                 0\n",
       "driv_age            6\n",
       "sex                 4\n",
       "driv_expe          34\n",
       "type_of_vehcle     11\n",
       "service_year       14\n",
       "location            4\n",
       "road_cond           3\n",
       "light_cond          6\n",
       "weather_cond        0\n",
       "casuality_class    16\n",
       "causality_age       7\n",
       "causality_sex       5\n",
       "severity            2\n",
       "dtype: int64"
      ]
     },
     "execution_count": 8,
     "metadata": {},
     "output_type": "execute_result"
    }
   ],
   "source": [
    "df.isnull().sum()"
   ]
  },
  {
   "cell_type": "raw",
   "id": "536e7e3c",
   "metadata": {},
   "source": [
    "df.duplicated(): Checks for duplicate rows in the DataFrame, returning a Series of True or False values for each row, where True indicates a duplicate. You can also add .sum() to count the total number of duplicate rows."
   ]
  },
  {
   "cell_type": "code",
   "execution_count": 9,
   "id": "08de1b71",
   "metadata": {},
   "outputs": [
    {
     "data": {
      "text/plain": [
       "0"
      ]
     },
     "execution_count": 9,
     "metadata": {},
     "output_type": "execute_result"
    }
   ],
   "source": [
    "df.duplicated().sum()"
   ]
  },
  {
   "cell_type": "markdown",
   "id": "2336ef15",
   "metadata": {},
   "source": [
    "# Assess Class Imbalance:"
   ]
  },
  {
   "cell_type": "raw",
   "id": "20ed1bd3",
   "metadata": {},
   "source": [
    "Use value_counts() or similar methods to evaluate class distributions in the target variable.\n",
    "Use the value_counts() function to find the distribution of each class in the target column.\n",
    "The class imbalance ratio gives a quantitative measure:\n",
    "    A ratio close to 0 indicates high imbalance (one class dominates).\n",
    "    A ratio close to 1 indicates low imbalance (classes are balanced)."
   ]
  },
  {
   "cell_type": "code",
   "execution_count": 10,
   "id": "e7fef99c",
   "metadata": {},
   "outputs": [
    {
     "name": "stdout",
     "output_type": "stream",
     "text": [
      "Class distribution in the target column:\n",
      " severity \n",
      "serious    103\n",
      "fatal        5\n",
      "Name: count, dtype: int64\n",
      "Class imbalance ratio: 0.04854368932038835\n"
     ]
    }
   ],
   "source": [
    "# Step 1: Check distribution of classes in the target column\n",
    "target_counts = df['severity '].value_counts()\n",
    "print(\"Class distribution in the target column:\\n\", target_counts)\n",
    "\n",
    "# Step 2: Calculate class imbalance ratio (optional)\n",
    "imbalance_ratio = target_counts.min() / target_counts.max()\n",
    "print(\"Class imbalance ratio:\", imbalance_ratio)"
   ]
  },
  {
   "cell_type": "markdown",
   "id": "2e5e3092",
   "metadata": {},
   "source": [
    "# Visualizing Class Imbalance"
   ]
  },
  {
   "cell_type": "code",
   "execution_count": 11,
   "id": "c4e53a1b",
   "metadata": {},
   "outputs": [
    {
     "data": {
      "image/png": "[encoded data removed]",
      "text/plain": [
       "<Figure size 640x480 with 1 Axes>"
      ]
     },
     "metadata": {},
     "output_type": "display_data"
    }
   ],
   "source": [
    "# Plot the class distribution\n",
    "sns.countplot(data=df, x='severity ')\n",
    "plt.title('Class Distribution in Target Column')\n",
    "plt.show()"
   ]
  },
  {
   "cell_type": "markdown",
   "id": "79ecc595",
   "metadata": {},
   "source": [
    "# 4. Visualize Actual Dataset Before Applying any Data Preprocessing Techniques"
   ]
  },
  {
   "cell_type": "raw",
   "id": "60c55344",
   "metadata": {},
   "source": [
    "Check Column Names"
   ]
  },
  {
   "cell_type": "code",
   "execution_count": 12,
   "id": "db6f96a1",
   "metadata": {},
   "outputs": [
    {
     "name": "stdout",
     "output_type": "stream",
     "text": [
      "\n",
      "Column Names:\n",
      "Index(['S/N0', 'time', 'day', 'driv_age', 'sex ', 'driv_expe',\n",
      "       'type_of_vehcle', 'service_year ', 'location', 'road_cond',\n",
      "       'light_cond', 'weather_cond ', 'casuality_class', 'causality_age ',\n",
      "       'causality_sex', 'severity '],\n",
      "      dtype='object')\n"
     ]
    }
   ],
   "source": [
    "print(\"\\nColumn Names:\")\n",
    "print(df.columns)"
   ]
  },
  {
   "cell_type": "markdown",
   "id": "49cfa584",
   "metadata": {},
   "source": [
    "# A. Categorical Variables Analysis"
   ]
  },
  {
   "cell_type": "raw",
   "id": "458f23eb",
   "metadata": {},
   "source": [
    "print(df.columns): Prints the current column names in the DataFrame. This helps you view the exact names of each column, which is useful for spotting any unwanted whitespace or inconsistencies.\n",
    "df.columns = df.columns.str.strip(): Removes any leading or trailing whitespace from each column name. This is important because even a small amount of extra whitespace can cause issues when referencing column names in code, leading to errors or inconsistencies."
   ]
  },
  {
   "cell_type": "code",
   "execution_count": 13,
   "id": "d178297e",
   "metadata": {},
   "outputs": [
    {
     "name": "stdout",
     "output_type": "stream",
     "text": [
      "Index(['S/N0', 'time', 'day', 'driv_age', 'sex ', 'driv_expe',\n",
      "       'type_of_vehcle', 'service_year ', 'location', 'road_cond',\n",
      "       'light_cond', 'weather_cond ', 'casuality_class', 'causality_age ',\n",
      "       'causality_sex', 'severity '],\n",
      "      dtype='object')\n"
     ]
    }
   ],
   "source": [
    "print(df.columns)\n",
    "df.columns = df.columns.str.strip()  # Remove leading/trailing spaces\n"
   ]
  },
  {
   "cell_type": "raw",
   "id": "a8c85d10",
   "metadata": {},
   "source": [
    "For categorical data, several visualization methods are commonly used to show distributions, frequencies, or comparisons between categories. In this case i have used count plot : Shows the frequency or count of each category or compares the values of a categorical variable across different groups. we use seaborn.countplot() or matplotlib.pyplot.bar(), i have used seaborn.countplot().\n",
    "Count plot for categorical variables\n",
    "a count plot to display the distribution of categories of each column from the DataFrame df. \n",
    "plt.subplot(4, 3, 1): Sets up a subplot in a grid with 4 rows and 3 columns and selects the first position. This is useful for creating multiple plots in one figure, allowing for an organized visualization layout.\n",
    "sns.countplot(data=df, x='column_name', palette='Set1'): Uses Seaborn’s countplot to create a bar plot that shows the count of each category in the column e.g. 'time'. The palette='Set1' argument applies a specific color palette to make the plot visually appealing.\n",
    "plt.title('Count of Categories in 'column_name e.g.'time''): Adds a title to the plot to describe what the plot shows, helping viewers interpret the visualization."
   ]
  },
  {
   "cell_type": "code",
   "execution_count": 14,
   "id": "3e613e80",
   "metadata": {},
   "outputs": [
    {
     "data": {
      "image/png": "[encoded data removed]",
      "text/plain": [
       "<Figure size 1500x1500 with 11 Axes>"
      ]
     },
     "metadata": {},
     "output_type": "display_data"
    }
   ],
   "source": [
    "# The code plt.figure(figsize=(15, 15)) creates a new figure with a specified size of 15x15 inches.\n",
    "#This is useful for adjusting the overall layout of multiple plots, \n",
    "#ensuring they fit comfortably within the figure space and are easy to view.\n",
    "plt.figure(figsize=(15, 15))\n",
    "\n",
    "plt.subplot(4, 3, 1)\n",
    "sns.countplot(data=df, x='time', palette='Set1')\n",
    "plt.title('Count of Categories in time')\n",
    "\n",
    "plt.subplot(4, 3, 2)\n",
    "sns.countplot(data=df, x='day', palette='Set2')\n",
    "plt.title('Count of Categories in day')\n",
    "\n",
    "plt.subplot(4, 3, 3)\n",
    "sns.countplot(data=df, x='sex', palette='Set3')  \n",
    "plt.title('Count of Categories in sex')\n",
    "\n",
    "plt.subplot(4, 3, 4)\n",
    "sns.countplot(data=df, x='type_of_vehcle', palette='Set2')\n",
    "plt.title('Count of Categories in type_of_vehcle')\n",
    "\n",
    "plt.subplot(4, 3, 5)\n",
    "sns.countplot(data=df, x='location', palette='Set3')\n",
    "plt.title('Count of Categories in location')\n",
    "\n",
    "plt.subplot(4, 3, 6)\n",
    "sns.countplot(data=df, x='road_cond', palette='Set3')\n",
    "plt.title('Count of Categories in road_cond')\n",
    "\n",
    "plt.subplot(4, 3, 7)\n",
    "sns.countplot(data=df, x='light_cond', palette='Set2')\n",
    "plt.title('Count of Categories in light_cond')\n",
    "\n",
    "plt.subplot(4, 3, 8)\n",
    "sns.countplot(data=df, x='weather_cond', palette='Set3')\n",
    "plt.title('Count of Categories in weather_cond')\n",
    "\n",
    "plt.subplot(4, 3, 9)\n",
    "sns.countplot(data=df, x='casuality_class', palette='Set2')\n",
    "plt.title('Count of Categories in casuality_class')\n",
    "\n",
    "plt.subplot(4, 3, 10)\n",
    "sns.countplot(data=df, x='causality_sex', palette='Set2')\n",
    "plt.title('Count of Categories in causality_sex')\n",
    "\n",
    "plt.subplot(4, 3, 11)\n",
    "sns.countplot(data=df, x='severity', palette='Set2')\n",
    "plt.title('Count of Categories in severity')\n",
    "\n",
    "\n",
    "plt.tight_layout()\n",
    "plt.show()\n"
   ]
  },
  {
   "cell_type": "markdown",
   "id": "e6260e94",
   "metadata": {},
   "source": [
    "# B. Numerical Variables Analysis"
   ]
  },
  {
   "cell_type": "raw",
   "id": "fdcfa884",
   "metadata": {},
   "source": [
    "For numerical data, there are several effective visualization methods to display distributions, relationships, and trends. we can use Histogram and Box plot. In this case i have used Box plot: Displays the distribution of a numeric variable by showing medians, quartiles, and outliers. Useful for identifying the spread and outliers.Libraries we can use: seaborn.boxplot() or matplotlib.pyplot.boxplot()"
   ]
  },
  {
   "cell_type": "code",
   "execution_count": 15,
   "id": "a65a47e7",
   "metadata": {},
   "outputs": [
    {
     "data": {
      "image/png": "[encoded data removed]",
      "text/plain": [
       "<Figure size 1500x1000 with 5 Axes>"
      ]
     },
     "metadata": {},
     "output_type": "display_data"
    }
   ],
   "source": [
    "plt.figure(figsize=(15, 10))\n",
    "\n",
    "# Box plots to visualize outliers\n",
    "for i, col in enumerate(df.select_dtypes(include=[np.number]).columns, 1):\n",
    "    plt.subplot(3, 2, i)\n",
    "    sns.boxplot(x=df[col])\n",
    "    plt.title(f'Box Plot of {col}')\n",
    "\n",
    "plt.tight_layout()\n",
    "plt.show()"
   ]
  },
  {
   "cell_type": "raw",
   "id": "ac18dfee",
   "metadata": {},
   "source": [
    "Check for invalid or Unexpected Values (e.g., Negative values in numeric columns)"
   ]
  },
  {
   "cell_type": "code",
   "execution_count": 16,
   "id": "6058c8a9",
   "metadata": {},
   "outputs": [
    {
     "name": "stdout",
     "output_type": "stream",
     "text": [
      "S/N0             0\n",
      "driv_age         0\n",
      "driv_expe        0\n",
      "service_year     0\n",
      "causality_age    0\n",
      "dtype: int64\n"
     ]
    }
   ],
   "source": [
    "print((df.select_dtypes(include='number') < 0).sum()) # find the total number of negative values in our dataset"
   ]
  },
  {
   "cell_type": "markdown",
   "id": "fbfd3462",
   "metadata": {},
   "source": [
    "# 5. Data Preprocessing"
   ]
  },
  {
   "cell_type": "markdown",
   "id": "cfbbedba",
   "metadata": {},
   "source": [
    "# Data Cleaning"
   ]
  },
  {
   "cell_type": "code",
   "execution_count": 19,
   "id": "ffb5dff4",
   "metadata": {},
   "outputs": [],
   "source": [
    "df.columns = df.columns.str.strip()  # Removes any extra spaces\n",
    "df = df.drop('S/N0', axis=1)"
   ]
  },
  {
   "cell_type": "code",
   "execution_count": 20,
   "id": "0a201811",
   "metadata": {},
   "outputs": [
    {
     "name": "stdout",
     "output_type": "stream",
     "text": [
      "\n",
      "Column Names:\n",
      "Index(['time', 'day', 'driv_age', 'sex', 'driv_expe', 'type_of_vehcle',\n",
      "       'service_year', 'location', 'road_cond', 'light_cond', 'weather_cond',\n",
      "       'casuality_class', 'causality_age', 'causality_sex', 'severity'],\n",
      "      dtype='object')\n"
     ]
    }
   ],
   "source": [
    "print(\"\\nColumn Names:\")\n",
    "print(df.columns)"
   ]
  },
  {
   "cell_type": "code",
   "execution_count": 21,
   "id": "292dfce7",
   "metadata": {},
   "outputs": [
    {
     "name": "stdout",
     "output_type": "stream",
     "text": [
      "Row index 0 has missing values in columns: ['casuality_class']\n",
      "Percentage of missing values in row 0: 6.67%\n",
      "----------------------------------------\n",
      "Row index 1 has missing values in columns: ['driv_expe', 'casuality_class']\n",
      "Percentage of missing values in row 1: 13.33%\n",
      "----------------------------------------\n",
      "Row index 2 has missing values in columns: ['driv_expe']\n",
      "Percentage of missing values in row 2: 6.67%\n",
      "----------------------------------------\n",
      "Row index 3 has missing values in columns: ['time', 'driv_expe']\n",
      "Percentage of missing values in row 3: 13.33%\n",
      "----------------------------------------\n",
      "Row index 4 has missing values in columns: ['driv_expe']\n",
      "Percentage of missing values in row 4: 6.67%\n",
      "----------------------------------------\n",
      "Row index 5 has missing values in columns: ['driv_expe']\n",
      "Percentage of missing values in row 5: 6.67%\n",
      "----------------------------------------\n",
      "Row index 6 has missing values in columns: ['driv_expe', 'light_cond']\n",
      "Percentage of missing values in row 6: 13.33%\n",
      "----------------------------------------\n",
      "Row index 7 has missing values in columns: ['driv_expe', 'casuality_class']\n",
      "Percentage of missing values in row 7: 13.33%\n",
      "----------------------------------------\n",
      "Row index 8 has missing values in columns: ['driv_expe', 'service_year']\n",
      "Percentage of missing values in row 8: 13.33%\n",
      "----------------------------------------\n",
      "Row index 9 has missing values in columns: ['driv_expe', 'casuality_class']\n",
      "Percentage of missing values in row 9: 13.33%\n",
      "----------------------------------------\n",
      "Row index 10 has missing values in columns: ['driv_expe']\n",
      "Percentage of missing values in row 10: 6.67%\n",
      "----------------------------------------\n",
      "Row index 11 has missing values in columns: ['driv_expe', 'light_cond']\n",
      "Percentage of missing values in row 11: 13.33%\n",
      "----------------------------------------\n",
      "Row index 12 has missing values in columns: ['driv_expe', 'service_year']\n",
      "Percentage of missing values in row 12: 13.33%\n",
      "----------------------------------------\n",
      "Row index 13 has missing values in columns: ['driv_age', 'sex', 'driv_expe', 'service_year', 'light_cond']\n",
      "Percentage of missing values in row 13: 33.33%\n",
      "----------------------------------------\n",
      "Row index 14 has missing values in columns: ['driv_expe']\n",
      "Percentage of missing values in row 14: 6.67%\n",
      "----------------------------------------\n",
      "Row index 15 has missing values in columns: ['driv_expe']\n",
      "Percentage of missing values in row 15: 6.67%\n",
      "----------------------------------------\n",
      "Row index 16 has missing values in columns: ['driv_expe']\n",
      "Percentage of missing values in row 16: 6.67%\n",
      "----------------------------------------\n",
      "Row index 17 has missing values in columns: ['driv_expe']\n",
      "Percentage of missing values in row 17: 6.67%\n",
      "----------------------------------------\n",
      "Row index 18 has missing values in columns: ['driv_expe']\n",
      "Percentage of missing values in row 18: 6.67%\n",
      "----------------------------------------\n",
      "Row index 19 has missing values in columns: ['driv_age', 'sex', 'driv_expe', 'service_year', 'causality_age', 'causality_sex']\n",
      "Percentage of missing values in row 19: 40.00%\n",
      "----------------------------------------\n",
      "Row index 20 has missing values in columns: ['driv_expe']\n",
      "Percentage of missing values in row 20: 6.67%\n",
      "----------------------------------------\n",
      "Row index 21 has missing values in columns: ['time', 'driv_expe']\n",
      "Percentage of missing values in row 21: 13.33%\n",
      "----------------------------------------\n",
      "Row index 22 has missing values in columns: ['time', 'driv_age', 'driv_expe', 'type_of_vehcle', 'service_year', 'location']\n",
      "Percentage of missing values in row 22: 40.00%\n",
      "----------------------------------------\n",
      "Row index 23 has missing values in columns: ['driv_age', 'sex', 'driv_expe', 'type_of_vehcle', 'light_cond']\n",
      "Percentage of missing values in row 23: 33.33%\n",
      "----------------------------------------\n",
      "Row index 24 has missing values in columns: ['time', 'driv_expe', 'road_cond']\n",
      "Percentage of missing values in row 24: 20.00%\n",
      "----------------------------------------\n",
      "Row index 25 has missing values in columns: ['driv_expe']\n",
      "Percentage of missing values in row 25: 6.67%\n",
      "----------------------------------------\n",
      "Row index 26 has missing values in columns: ['driv_expe', 'location']\n",
      "Percentage of missing values in row 26: 13.33%\n",
      "----------------------------------------\n",
      "Row index 27 has missing values in columns: ['driv_expe']\n",
      "Percentage of missing values in row 27: 6.67%\n",
      "----------------------------------------\n",
      "Row index 29 has missing values in columns: ['causality_age']\n",
      "Percentage of missing values in row 29: 6.67%\n",
      "----------------------------------------\n",
      "Row index 31 has missing values in columns: ['type_of_vehcle']\n",
      "Percentage of missing values in row 31: 6.67%\n",
      "----------------------------------------\n",
      "Row index 32 has missing values in columns: ['light_cond']\n",
      "Percentage of missing values in row 32: 6.67%\n",
      "----------------------------------------\n",
      "Row index 35 has missing values in columns: ['location']\n",
      "Percentage of missing values in row 35: 6.67%\n",
      "----------------------------------------\n",
      "Row index 36 has missing values in columns: ['driv_expe', 'causality_age', 'causality_sex']\n",
      "Percentage of missing values in row 36: 20.00%\n",
      "----------------------------------------\n",
      "Row index 39 has missing values in columns: ['driv_expe', 'service_year', 'road_cond']\n",
      "Percentage of missing values in row 39: 20.00%\n",
      "----------------------------------------\n",
      "Row index 42 has missing values in columns: ['road_cond', 'severity']\n",
      "Percentage of missing values in row 42: 13.33%\n",
      "----------------------------------------\n",
      "Row index 43 has missing values in columns: ['causality_age']\n",
      "Percentage of missing values in row 43: 6.67%\n",
      "----------------------------------------\n",
      "Row index 44 has missing values in columns: ['casuality_class']\n",
      "Percentage of missing values in row 44: 6.67%\n",
      "----------------------------------------\n",
      "Row index 45 has missing values in columns: ['driv_expe']\n",
      "Percentage of missing values in row 45: 6.67%\n",
      "----------------------------------------\n",
      "Row index 46 has missing values in columns: ['type_of_vehcle', 'casuality_class']\n",
      "Percentage of missing values in row 46: 13.33%\n",
      "----------------------------------------\n",
      "Row index 49 has missing values in columns: ['causality_age', 'causality_sex']\n",
      "Percentage of missing values in row 49: 13.33%\n",
      "----------------------------------------\n",
      "Row index 50 has missing values in columns: ['casuality_class']\n",
      "Percentage of missing values in row 50: 6.67%\n",
      "----------------------------------------\n",
      "Row index 51 has missing values in columns: ['type_of_vehcle', 'causality_age']\n",
      "Percentage of missing values in row 51: 13.33%\n",
      "----------------------------------------\n",
      "Row index 53 has missing values in columns: ['casuality_class']\n",
      "Percentage of missing values in row 53: 6.67%\n",
      "----------------------------------------\n",
      "Row index 54 has missing values in columns: ['casuality_class']\n",
      "Percentage of missing values in row 54: 6.67%\n",
      "----------------------------------------\n",
      "Row index 55 has missing values in columns: ['casuality_class']\n",
      "Percentage of missing values in row 55: 6.67%\n",
      "----------------------------------------\n",
      "Row index 56 has missing values in columns: ['service_year', 'casuality_class']\n",
      "Percentage of missing values in row 56: 13.33%\n",
      "----------------------------------------\n",
      "Row index 60 has missing values in columns: ['type_of_vehcle']\n",
      "Percentage of missing values in row 60: 6.67%\n",
      "----------------------------------------\n",
      "Row index 61 has missing values in columns: ['driv_age', 'sex', 'driv_expe', 'type_of_vehcle', 'service_year', 'casuality_class', 'severity']\n",
      "Percentage of missing values in row 61: 46.67%\n",
      "----------------------------------------\n",
      "Row index 62 has missing values in columns: ['type_of_vehcle']\n",
      "Percentage of missing values in row 62: 6.67%\n",
      "----------------------------------------\n",
      "Row index 63 has missing values in columns: ['location', 'light_cond', 'casuality_class']\n",
      "Percentage of missing values in row 63: 20.00%\n",
      "----------------------------------------\n",
      "Row index 64 has missing values in columns: ['casuality_class']\n",
      "Percentage of missing values in row 64: 6.67%\n",
      "----------------------------------------\n",
      "Row index 65 has missing values in columns: ['type_of_vehcle', 'casuality_class']\n",
      "Percentage of missing values in row 65: 13.33%\n",
      "----------------------------------------\n",
      "Row index 66 has missing values in columns: ['casuality_class']\n",
      "Percentage of missing values in row 66: 6.67%\n",
      "----------------------------------------\n",
      "Row index 71 has missing values in columns: ['type_of_vehcle']\n",
      "Percentage of missing values in row 71: 6.67%\n",
      "----------------------------------------\n",
      "Row index 72 has missing values in columns: ['causality_sex']\n",
      "Percentage of missing values in row 72: 6.67%\n",
      "----------------------------------------\n",
      "Row index 74 has missing values in columns: ['type_of_vehcle']\n",
      "Percentage of missing values in row 74: 6.67%\n",
      "----------------------------------------\n",
      "Row index 75 has missing values in columns: ['service_year']\n",
      "Percentage of missing values in row 75: 6.67%\n",
      "----------------------------------------\n",
      "Row index 77 has missing values in columns: ['driv_expe', 'service_year']\n",
      "Percentage of missing values in row 77: 13.33%\n",
      "----------------------------------------\n",
      "Row index 87 has missing values in columns: ['driv_expe', 'service_year']\n",
      "Percentage of missing values in row 87: 13.33%\n",
      "----------------------------------------\n",
      "Row index 97 has missing values in columns: ['service_year']\n",
      "Percentage of missing values in row 97: 6.67%\n",
      "----------------------------------------\n",
      "Row index 101 has missing values in columns: ['driv_age', 'driv_expe', 'service_year']\n",
      "Percentage of missing values in row 101: 20.00%\n",
      "----------------------------------------\n",
      "Row index 103 has missing values in columns: ['causality_age', 'causality_sex']\n",
      "Percentage of missing values in row 103: 13.33%\n",
      "----------------------------------------\n",
      "Row index 104 has missing values in columns: ['service_year']\n",
      "Percentage of missing values in row 104: 6.67%\n",
      "----------------------------------------\n"
     ]
    }
   ],
   "source": [
    "# Detailed check for missing values in the first 110 rows\n",
    "for index in range(110):\n",
    "     if index < len(df):  # Ensure index is within the DataFrame's length\n",
    "        row_data = df.iloc[index]\n",
    "        missing_mask = row_data.isnull()\n",
    "        \n",
    "        if missing_mask.any():  # Check if there are any missing values in this row\n",
    "            # Get the names of the columns with missing values\n",
    "            missing_columns = row_data[missing_mask].index.tolist()\n",
    "            \n",
    "            # Calculate the percentage of missing values for this row\n",
    "            total_columns = len(row_data)\n",
    "            missing_count = missing_mask.sum()\n",
    "            missing_percentage = (missing_count / total_columns) * 100\n",
    "            \n",
    "            print(f\"Row index {index} has missing values in columns: {missing_columns}\")\n",
    "            print(f\"Percentage of missing values in row {index}: {missing_percentage:.2f}%\")\n",
    "            print(\"----------------------------------------\")\n"
   ]
  },
  {
   "cell_type": "markdown",
   "id": "0f06fa40",
   "metadata": {},
   "source": [
    "# Fill Missing Values"
   ]
  },
  {
   "cell_type": "markdown",
   "id": "610ced9d",
   "metadata": {},
   "source": [
    "# A. Fill categorical columns with the mode (most common value)"
   ]
  },
  {
   "cell_type": "code",
   "execution_count": 22,
   "id": "c204a77d",
   "metadata": {},
   "outputs": [
    {
     "name": "stdout",
     "output_type": "stream",
     "text": [
      "DataFrame after filling missing values:\n",
      "         time        day  driv_age   sex  driv_expe type_of_vehcle  \\\n",
      "0    20:00:00  Saturday       27.0  male        6.0            bus   \n",
      "1    20:00:00  Saturday       40.0  male        NaN     automobile   \n",
      "2    10:30:00   Thursday      27.0  male        NaN          truck   \n",
      "3    14:00:00  Saturday       27.0  male        NaN          truck   \n",
      "4    08:10:00    Sunday       45.0  male        NaN     automobile   \n",
      "..        ...        ...       ...   ...        ...            ...   \n",
      "105  17:30:00    Monday       30.0  male        9.0            bus   \n",
      "106  12:05:00    Tuesday      32.0  male        3.0            bus   \n",
      "107  22:00:00   Thursday      26.0  male        5.0     automobile   \n",
      "108  10:30:00    Monday       37.0  male        5.0     automobile   \n",
      "109  14:00:00  Saturday       45.0  male       30.0     automobile   \n",
      "\n",
      "     service_year location road_cond  light_cond weather_cond casuality_class  \\\n",
      "0             9.0     orgn       dry    darkness         cold       prodamage   \n",
      "1            24.0     orgn       dry    darkness         cold       prodamage   \n",
      "2             3.0     orgn       dry    daylight     sunlight      pedistrian   \n",
      "3            10.0   market       dry    daylight         cold       prodamage   \n",
      "4            10.0  Station       dry    daylight     sunlight      pedistrian   \n",
      "..            ...      ...       ...         ...          ...             ...   \n",
      "105           1.0     orgn       dry    daylight         good       prodamage   \n",
      "106          10.0     orgn       dry    daylight         good       prodamage   \n",
      "107          10.0     orgn       dry  nightlight         good       prodamage   \n",
      "108          10.0     orgn       dry    daylight         good       prodamage   \n",
      "109           1.0   market       dry    daylight         good       prodamage   \n",
      "\n",
      "     causality_age causality_sex severity  \n",
      "0             52.0          male  serious  \n",
      "1             32.0          male  serious  \n",
      "2             20.0          male  serious  \n",
      "3             55.0          male  serious  \n",
      "4             25.0          male  serious  \n",
      "..             ...           ...      ...  \n",
      "105           30.0          male  serious  \n",
      "106           21.0          male  serious  \n",
      "107           23.0          male  serious  \n",
      "108           48.0          male  serious  \n",
      "109           51.0          male  serious  \n",
      "\n",
      "[110 rows x 15 columns]\n"
     ]
    }
   ],
   "source": [
    "# Fill categorical columns with the mode (most common value)\n",
    "categorical_cols = df.select_dtypes(include=['object']).columns\n",
    "df[categorical_cols] = df[categorical_cols].apply(lambda x: x.fillna(x.mode()[0]))\n",
    "\n",
    "print(\"DataFrame after filling missing values:\")\n",
    "print(df)"
   ]
  },
  {
   "cell_type": "markdown",
   "id": "ecb4c105",
   "metadata": {},
   "source": [
    "# B. Fill numerical columns with the mean of each column"
   ]
  },
  {
   "cell_type": "code",
   "execution_count": 23,
   "id": "48d8b925",
   "metadata": {},
   "outputs": [
    {
     "name": "stdout",
     "output_type": "stream",
     "text": [
      "DataFrame after filling missing values:\n",
      "         time        day  driv_age   sex  driv_expe type_of_vehcle  \\\n",
      "0    20:00:00  Saturday       27.0  male   6.000000            bus   \n",
      "1    20:00:00  Saturday       40.0  male   9.592105     automobile   \n",
      "2    10:30:00   Thursday      27.0  male   9.592105          truck   \n",
      "3    14:00:00  Saturday       27.0  male   9.592105          truck   \n",
      "4    08:10:00    Sunday       45.0  male   9.592105     automobile   \n",
      "..        ...        ...       ...   ...        ...            ...   \n",
      "105  17:30:00    Monday       30.0  male   9.000000            bus   \n",
      "106  12:05:00    Tuesday      32.0  male   3.000000            bus   \n",
      "107  22:00:00   Thursday      26.0  male   5.000000     automobile   \n",
      "108  10:30:00    Monday       37.0  male   5.000000     automobile   \n",
      "109  14:00:00  Saturday       45.0  male  30.000000     automobile   \n",
      "\n",
      "     service_year location road_cond  light_cond weather_cond casuality_class  \\\n",
      "0             9.0     orgn       dry    darkness         cold       prodamage   \n",
      "1            24.0     orgn       dry    darkness         cold       prodamage   \n",
      "2             3.0     orgn       dry    daylight     sunlight      pedistrian   \n",
      "3            10.0   market       dry    daylight         cold       prodamage   \n",
      "4            10.0  Station       dry    daylight     sunlight      pedistrian   \n",
      "..            ...      ...       ...         ...          ...             ...   \n",
      "105           1.0     orgn       dry    daylight         good       prodamage   \n",
      "106          10.0     orgn       dry    daylight         good       prodamage   \n",
      "107          10.0     orgn       dry  nightlight         good       prodamage   \n",
      "108          10.0     orgn       dry    daylight         good       prodamage   \n",
      "109           1.0   market       dry    daylight         good       prodamage   \n",
      "\n",
      "     causality_age causality_sex severity  \n",
      "0             52.0          male  serious  \n",
      "1             32.0          male  serious  \n",
      "2             20.0          male  serious  \n",
      "3             55.0          male  serious  \n",
      "4             25.0          male  serious  \n",
      "..             ...           ...      ...  \n",
      "105           30.0          male  serious  \n",
      "106           21.0          male  serious  \n",
      "107           23.0          male  serious  \n",
      "108           48.0          male  serious  \n",
      "109           51.0          male  serious  \n",
      "\n",
      "[110 rows x 15 columns]\n"
     ]
    }
   ],
   "source": [
    "# Fill numerical columns with the mean of each column\n",
    "numerical_cols = df.select_dtypes(include=['float64', 'int64']).columns\n",
    "df[numerical_cols] = df[numerical_cols].fillna(df[numerical_cols].mean())\n",
    "\n",
    "print(\"DataFrame after filling missing values:\")\n",
    "print(df)"
   ]
  },
  {
   "cell_type": "markdown",
   "id": "7f3b2a27",
   "metadata": {},
   "source": [
    "# Checking missing if missed value had in our dataset after fill missed values"
   ]
  },
  {
   "cell_type": "code",
   "execution_count": 24,
   "id": "3f5fc624",
   "metadata": {},
   "outputs": [
    {
     "data": {
      "text/plain": [
       "time               0\n",
       "day                0\n",
       "driv_age           0\n",
       "sex                0\n",
       "driv_expe          0\n",
       "type_of_vehcle     0\n",
       "service_year       0\n",
       "location           0\n",
       "road_cond          0\n",
       "light_cond         0\n",
       "weather_cond       0\n",
       "casuality_class    0\n",
       "causality_age      0\n",
       "causality_sex      0\n",
       "severity           0\n",
       "dtype: int64"
      ]
     },
     "execution_count": 24,
     "metadata": {},
     "output_type": "execute_result"
    }
   ],
   "source": [
    "df.isnull().sum()"
   ]
  },
  {
   "cell_type": "markdown",
   "id": "2ace1c1c",
   "metadata": {},
   "source": [
    "# II. Checking Noise and Anomalies"
   ]
  },
  {
   "cell_type": "code",
   "execution_count": 25,
   "id": "c10403e9",
   "metadata": {},
   "outputs": [
    {
     "name": "stdout",
     "output_type": "stream",
     "text": [
      "Unique values in 'time': [datetime.time(20, 0) datetime.time(10, 30) datetime.time(14, 0)\n",
      " datetime.time(8, 10) datetime.time(16, 50) datetime.time(7, 15)\n",
      " datetime.time(18, 30) datetime.time(13, 50) datetime.time(15, 30)\n",
      " datetime.time(17, 30) datetime.time(20, 15) datetime.time(12, 0)\n",
      " datetime.time(19, 0) datetime.time(7, 30) datetime.time(18, 20)\n",
      " datetime.time(11, 40) datetime.time(23, 30) datetime.time(16, 30)\n",
      " datetime.time(7, 20) datetime.time(0, 40) datetime.time(11, 0)\n",
      " datetime.time(7, 0) datetime.time(13, 20) datetime.time(22, 15)\n",
      " datetime.time(17, 0) datetime.time(21, 15) datetime.time(10, 20)\n",
      " datetime.time(12, 5) datetime.time(13, 15) datetime.time(20, 40)\n",
      " datetime.time(13, 0) datetime.time(9, 30) datetime.time(11, 20)\n",
      " datetime.time(11, 30) datetime.time(16, 45) datetime.time(9, 0)\n",
      " datetime.time(22, 35) datetime.time(21, 0) datetime.time(17, 10)\n",
      " datetime.time(7, 40) datetime.time(22, 0) datetime.time(12, 20)\n",
      " datetime.time(12, 30) datetime.time(14, 30) datetime.time(4, 30)\n",
      " datetime.time(2, 30) datetime.time(7, 45) datetime.time(9, 5)\n",
      " datetime.time(16, 0) datetime.time(18, 0) datetime.time(12, 40)\n",
      " datetime.time(10, 0) datetime.time(21, 30) datetime.time(3, 0)\n",
      " datetime.time(6, 30) datetime.time(19, 40) datetime.time(15, 45)\n",
      " datetime.time(19, 30) datetime.time(23, 20) datetime.time(16, 20)\n",
      " datetime.time(20, 45) datetime.time(6, 50) datetime.time(8, 0)\n",
      " datetime.time(21, 50) datetime.time(13, 30) datetime.time(23, 0)\n",
      " datetime.time(13, 40) datetime.time(6, 0)]\n",
      "Unique values in 'day': ['Saturday ' 'Thursday' 'Sunday ' 'Monday ' 'Friday ' 'Tuesday'\n",
      " 'Wednesday ']\n",
      "Unique values in 'driv_age': [27.         40.         45.         33.         51.         36.\n",
      " 34.         30.         59.         26.         28.         34.27884615\n",
      " 38.         18.         35.         54.         22.         32.\n",
      " 24.         29.         23.         31.         57.         48.\n",
      " 49.         25.         41.         56.         42.         19.\n",
      " 52.         16.         43.         20.         21.         39.\n",
      " 46.         37.         47.        ]\n",
      "Unique values in 'sex': ['male' 'female']\n",
      "Unique values in 'driv_expe': [ 6.          9.59210526  4.          5.          2.          3.\n",
      " 10.          7.         35.         23.         15.         25.\n",
      " 30.          0.          8.         21.         12.         20.\n",
      " 19.         11.         13.          9.        ]\n",
      "Unique values in 'type_of_vehcle': ['bus' 'automobile' 'truck' 'taxi' 'isuzu' 'minibus' 'pickup' 'ambulance']\n",
      "Unique values in 'service_year': [ 9.  24.   3.  10.   5.  16.   9.5 12.  20.   2.  25.   6.   1.  13.\n",
      " 18. ]\n",
      "Unique values in 'location': ['orgn' 'market' 'Station' 'livingarea' 'college' 'hospital' 'canteen'\n",
      " 'pubarea' 'church']\n",
      "Unique values in 'road_cond': ['dry' 'wet']\n",
      "Unique values in 'light_cond': ['darkness' 'daylight' 'nightlight']\n",
      "Unique values in 'weather_cond': ['cold' 'sunlight' 'windy' 'good' 'rainy']\n",
      "Unique values in 'casuality_class': ['prodamage' 'pedistrian' 'passenger' 'driver']\n",
      "Unique values in 'causality_age': [52.         32.         20.         55.         25.         29.\n",
      " 23.         50.         37.         28.         18.         48.\n",
      " 74.         31.         30.         33.         39.03883495 42.\n",
      " 22.         11.          7.         39.         24.         58.\n",
      " 35.         60.         27.         66.         13.         16.\n",
      " 77.         49.         76.         41.         54.         56.\n",
      " 59.         68.         65.         45.         40.         38.\n",
      " 43.         62.         10.         85.         61.         36.\n",
      " 70.         57.         21.         51.        ]\n",
      "Unique values in 'causality_sex': ['male' 'female']\n",
      "Unique values in 'severity': ['serious' 'fatal']\n"
     ]
    }
   ],
   "source": [
    "# Show unique items in each column\n",
    "for column in df.columns:\n",
    "    unique_values = df[column].unique()  # Get unique values for the column\n",
    "    print(f\"Unique values in '{column}': {unique_values}\")"
   ]
  },
  {
   "cell_type": "markdown",
   "id": "f4610d38",
   "metadata": {},
   "source": [
    "# Handle Noise in Numerical Data"
   ]
  },
  {
   "cell_type": "raw",
   "id": "70f7c24f",
   "metadata": {},
   "source": [
    "We did not need for the categorical data part because all the valuse in categorical attributes are unique have not any outlier or anomalies."
   ]
  },
  {
   "cell_type": "code",
   "execution_count": 26,
   "id": "a0c0c188",
   "metadata": {},
   "outputs": [
    {
     "name": "stdout",
     "output_type": "stream",
     "text": [
      "Data after handling noise and outliers:\n",
      "         time        day  driv_age   sex  driv_expe type_of_vehcle  \\\n",
      "0    20:00:00  Saturday       27.0  male   6.000000            bus   \n",
      "3    14:00:00  Saturday       27.0  male   9.592105          truck   \n",
      "4    08:10:00    Sunday       45.0  male   9.592105     automobile   \n",
      "7    18:30:00    Monday       36.0  male   9.592105          truck   \n",
      "8    13:50:00    Monday       34.0  male   9.592105     automobile   \n",
      "..        ...        ...       ...   ...        ...            ...   \n",
      "102  23:00:00  Saturday       27.0  male   8.000000          isuzu   \n",
      "104  06:00:00  Saturday       30.0  male   2.000000     automobile   \n",
      "106  12:05:00    Tuesday      32.0  male   3.000000            bus   \n",
      "107  22:00:00   Thursday      26.0  male   5.000000     automobile   \n",
      "108  10:30:00    Monday       37.0  male   5.000000     automobile   \n",
      "\n",
      "     service_year    location road_cond  light_cond weather_cond  \\\n",
      "0             9.0        orgn       dry    darkness         cold   \n",
      "3            10.0      market       dry    daylight         cold   \n",
      "4            10.0     Station       dry    daylight     sunlight   \n",
      "7            10.0      market       dry    daylight     sunlight   \n",
      "8             9.5  livingarea       dry    daylight     sunlight   \n",
      "..            ...         ...       ...         ...          ...   \n",
      "102          10.0        orgn       dry  nightlight         good   \n",
      "104           9.5      church       dry    daylight         good   \n",
      "106          10.0        orgn       dry    daylight         good   \n",
      "107          10.0        orgn       dry  nightlight         good   \n",
      "108          10.0        orgn       dry    daylight         good   \n",
      "\n",
      "    casuality_class  causality_age causality_sex severity  \n",
      "0         prodamage           52.0          male  serious  \n",
      "3         prodamage           55.0          male  serious  \n",
      "4        pedistrian           25.0          male  serious  \n",
      "7         prodamage           23.0          male  serious  \n",
      "8         prodamage           52.0          male  serious  \n",
      "..              ...            ...           ...      ...  \n",
      "102       prodamage           55.0          male  serious  \n",
      "104       prodamage           40.0        female  serious  \n",
      "106       prodamage           21.0          male  serious  \n",
      "107       prodamage           23.0          male  serious  \n",
      "108       prodamage           48.0          male  serious  \n",
      "\n",
      "[69 rows x 15 columns]\n"
     ]
    }
   ],
   "source": [
    "df = pd.DataFrame(df)\n",
    "# Step 2: Handle Noise in Numerical Data\n",
    "# Remove outliers from numerical columns using IQR\n",
    "def remove_outliers_iqr(df):\n",
    "    for col in df.select_dtypes(include=[np.number]).columns:\n",
    "        Q1 = df[col].quantile(0.25)\n",
    "        Q3 = df[col].quantile(0.75)\n",
    "        IQR = Q3 - Q1\n",
    "        lower_bound = Q1 - 1.5 * IQR\n",
    "        upper_bound = Q3 + 1.5 * IQR\n",
    "        df = df[(df[col] >= lower_bound) & (df[col] <= upper_bound)]\n",
    "    return df\n",
    "\n",
    "# Remove outliers using IQR\n",
    "df_no_outliers = remove_outliers_iqr(df)\n",
    "\n",
    " #Print the cleaned DataFrame\n",
    "print(\"Data after handling noise and outliers:\")\n",
    "print(df_no_outliers)"
   ]
  },
  {
   "cell_type": "markdown",
   "id": "c4ed4937",
   "metadata": {},
   "source": [
    "# 6. Data Transformation / Encoding"
   ]
  },
  {
   "cell_type": "raw",
   "id": "602d1d91",
   "metadata": {},
   "source": [
    "Scaling Numerical Features: Normalize or standardize numerical features to bring them to a similar scale:"
   ]
  },
  {
   "cell_type": "raw",
   "id": "2026905c",
   "metadata": {},
   "source": [
    "our DataFrame contains a column of datetime.time objects and if we want to convert these to a float representation (for example, total hours as a float), you can follow the steps below:\n",
    "Step-by-Step Guide\n",
    "Check the Data Type: Ensure the column contains datetime.time objects.\n",
    "Create a Conversion Function: Write a function that converts datetime.time to a float.\n",
    "Apply the Function: Use apply to convert the entire column."
   ]
  },
  {
   "cell_type": "code",
   "execution_count": 27,
   "id": "4a88f0c8",
   "metadata": {},
   "outputs": [
    {
     "name": "stdout",
     "output_type": "stream",
     "text": [
      "          time        day  driv_age   sex  driv_expe type_of_vehcle  \\\n",
      "0    20.000000  Saturday       27.0  male   6.000000            bus   \n",
      "1    20.000000  Saturday       40.0  male   9.592105     automobile   \n",
      "2    10.500000   Thursday      27.0  male   9.592105          truck   \n",
      "3    14.000000  Saturday       27.0  male   9.592105          truck   \n",
      "4     8.166667    Sunday       45.0  male   9.592105     automobile   \n",
      "..         ...        ...       ...   ...        ...            ...   \n",
      "105  17.500000    Monday       30.0  male   9.000000            bus   \n",
      "106  12.083333    Tuesday      32.0  male   3.000000            bus   \n",
      "107  22.000000   Thursday      26.0  male   5.000000     automobile   \n",
      "108  10.500000    Monday       37.0  male   5.000000     automobile   \n",
      "109  14.000000  Saturday       45.0  male  30.000000     automobile   \n",
      "\n",
      "     service_year location road_cond  light_cond weather_cond casuality_class  \\\n",
      "0             9.0     orgn       dry    darkness         cold       prodamage   \n",
      "1            24.0     orgn       dry    darkness         cold       prodamage   \n",
      "2             3.0     orgn       dry    daylight     sunlight      pedistrian   \n",
      "3            10.0   market       dry    daylight         cold       prodamage   \n",
      "4            10.0  Station       dry    daylight     sunlight      pedistrian   \n",
      "..            ...      ...       ...         ...          ...             ...   \n",
      "105           1.0     orgn       dry    daylight         good       prodamage   \n",
      "106          10.0     orgn       dry    daylight         good       prodamage   \n",
      "107          10.0     orgn       dry  nightlight         good       prodamage   \n",
      "108          10.0     orgn       dry    daylight         good       prodamage   \n",
      "109           1.0   market       dry    daylight         good       prodamage   \n",
      "\n",
      "     causality_age causality_sex severity  \n",
      "0             52.0          male  serious  \n",
      "1             32.0          male  serious  \n",
      "2             20.0          male  serious  \n",
      "3             55.0          male  serious  \n",
      "4             25.0          male  serious  \n",
      "..             ...           ...      ...  \n",
      "105           30.0          male  serious  \n",
      "106           21.0          male  serious  \n",
      "107           23.0          male  serious  \n",
      "108           48.0          male  serious  \n",
      "109           51.0          male  serious  \n",
      "\n",
      "[110 rows x 15 columns]\n"
     ]
    }
   ],
   "source": [
    "df = pd.DataFrame(df)\n",
    "\n",
    "# Function to convert datetime.time to float (hours)\n",
    "def time_to_float(t):\n",
    "    if isinstance(t, datetime.time):  # Check if t is a datetime.time object\n",
    "        total_hours = t.hour + t.minute / 60.0\n",
    "        return total_hours\n",
    "    else:\n",
    "        return None  # Handle other cases (like None)\n",
    "\n",
    "# Apply the conversion function to the time column\n",
    "df['time'] = df['time'].apply(time_to_float)\n",
    "\n",
    "# Display the DataFrame with the new float column\n",
    "print(df)"
   ]
  },
  {
   "cell_type": "markdown",
   "id": "cf5cbd42",
   "metadata": {},
   "source": [
    "# A Encoding Categorical Variables"
   ]
  },
  {
   "cell_type": "raw",
   "id": "8f00fcd2",
   "metadata": {},
   "source": [
    "Convert categorical variables to numerical format using techniques like: Label Encoding: Assigning each category a unique integer."
   ]
  },
  {
   "cell_type": "code",
   "execution_count": 28,
   "id": "c778b6f9",
   "metadata": {},
   "outputs": [
    {
     "name": "stdout",
     "output_type": "stream",
     "text": [
      "          time  day  driv_age  sex  driv_expe  type_of_vehcle  service_year  \\\n",
      "0    20.000000    2      27.0    1   6.000000               2           9.0   \n",
      "1    20.000000    2      40.0    1   9.592105               1          24.0   \n",
      "2    10.500000    4      27.0    1   9.592105               7           3.0   \n",
      "3    14.000000    2      27.0    1   9.592105               7          10.0   \n",
      "4     8.166667    3      45.0    1   9.592105               1          10.0   \n",
      "..         ...  ...       ...  ...        ...             ...           ...   \n",
      "105  17.500000    1      30.0    1   9.000000               2           1.0   \n",
      "106  12.083333    5      32.0    1   3.000000               2          10.0   \n",
      "107  22.000000    4      26.0    1   5.000000               1          10.0   \n",
      "108  10.500000    1      37.0    1   5.000000               1          10.0   \n",
      "109  14.000000    2      45.0    1  30.000000               1           1.0   \n",
      "\n",
      "     location  road_cond  light_cond  weather_cond  casuality_class  \\\n",
      "0           7          0           0             0                3   \n",
      "1           7          0           0             0                3   \n",
      "2           7          0           1             3                2   \n",
      "3           6          0           1             0                3   \n",
      "4           0          0           1             3                2   \n",
      "..        ...        ...         ...           ...              ...   \n",
      "105         7          0           1             1                3   \n",
      "106         7          0           1             1                3   \n",
      "107         7          0           2             1                3   \n",
      "108         7          0           1             1                3   \n",
      "109         6          0           1             1                3   \n",
      "\n",
      "     causality_age  causality_sex  severity  \n",
      "0             52.0              1         1  \n",
      "1             32.0              1         1  \n",
      "2             20.0              1         1  \n",
      "3             55.0              1         1  \n",
      "4             25.0              1         1  \n",
      "..             ...            ...       ...  \n",
      "105           30.0              1         1  \n",
      "106           21.0              1         1  \n",
      "107           23.0              1         1  \n",
      "108           48.0              1         1  \n",
      "109           51.0              1         1  \n",
      "\n",
      "[110 rows x 15 columns]\n"
     ]
    }
   ],
   "source": [
    "# Initialize the label encoder\n",
    "label_encoder = LabelEncoder()\n",
    "\n",
    "# Loop through each categorical column and apply label encoding\n",
    "categorical_cols = df.select_dtypes(include=['object']).columns\n",
    "\n",
    "for col in categorical_cols:\n",
    "    df[col] = label_encoder.fit_transform(df[col])\n",
    "\n",
    "print(df)"
   ]
  },
  {
   "cell_type": "markdown",
   "id": "0140e4d3",
   "metadata": {},
   "source": [
    "# B. Normalization (Min-Max Scaling): Rescale features to a [0, 1] range."
   ]
  },
  {
   "cell_type": "raw",
   "id": "7180b51d",
   "metadata": {},
   "source": [
    "Normalization rescales the data to a fixed range, usually [0, 1]. This is useful when you want to ensure that all features contribute equally to the distance calculations.Standardization: Scale features to have a mean of 0 and a standard deviation of 1 using StandardScaler from sklearn.preprocessing."
   ]
  },
  {
   "cell_type": "code",
   "execution_count": 29,
   "id": "f3468be4",
   "metadata": {},
   "outputs": [
    {
     "name": "stdout",
     "output_type": "stream",
     "text": [
      "\n",
      "Normalized DataFrame:\n",
      "         time  day  driv_age  sex  driv_expe  type_of_vehcle  service_year  \\\n",
      "0    0.846715    2  0.255814    1   0.171429               2      0.333333   \n",
      "1    0.846715    2  0.558140    1   0.274060               1      0.958333   \n",
      "2    0.430657    4  0.255814    1   0.274060               7      0.083333   \n",
      "3    0.583942    2  0.255814    1   0.274060               7      0.375000   \n",
      "4    0.328467    3  0.674419    1   0.274060               1      0.375000   \n",
      "..        ...  ...       ...  ...        ...             ...           ...   \n",
      "105  0.737226    1  0.325581    1   0.257143               2      0.000000   \n",
      "106  0.500000    5  0.372093    1   0.085714               2      0.375000   \n",
      "107  0.934307    4  0.232558    1   0.142857               1      0.375000   \n",
      "108  0.430657    1  0.488372    1   0.142857               1      0.375000   \n",
      "109  0.583942    2  0.674419    1   0.857143               1      0.000000   \n",
      "\n",
      "     location  road_cond  light_cond  weather_cond  casuality_class  \\\n",
      "0           7          0           0             0                3   \n",
      "1           7          0           0             0                3   \n",
      "2           7          0           1             3                2   \n",
      "3           6          0           1             0                3   \n",
      "4           0          0           1             3                2   \n",
      "..        ...        ...         ...           ...              ...   \n",
      "105         7          0           1             1                3   \n",
      "106         7          0           1             1                3   \n",
      "107         7          0           2             1                3   \n",
      "108         7          0           1             1                3   \n",
      "109         6          0           1             1                3   \n",
      "\n",
      "     causality_age  causality_sex  severity  \n",
      "0         0.576923              1         1  \n",
      "1         0.320513              1         1  \n",
      "2         0.166667              1         1  \n",
      "3         0.615385              1         1  \n",
      "4         0.230769              1         1  \n",
      "..             ...            ...       ...  \n",
      "105       0.294872              1         1  \n",
      "106       0.179487              1         1  \n",
      "107       0.205128              1         1  \n",
      "108       0.525641              1         1  \n",
      "109       0.564103              1         1  \n",
      "\n",
      "[110 rows x 15 columns]\n"
     ]
    }
   ],
   "source": [
    "# Initialize the scaler\n",
    "scaler = MinMaxScaler()\n",
    "\n",
    "# Select only numerical columns\n",
    "numerical_cols = df.select_dtypes(include=['float64', 'int64']).columns\n",
    "\n",
    "# Normalize the numerical data\n",
    "df_normalized = df.copy()  # Create a copy to preserve original DataFrame\n",
    "df_normalized[numerical_cols] = scaler.fit_transform(df[numerical_cols])\n",
    "\n",
    "# Display the normalized DataFrame\n",
    "print(\"\\nNormalized DataFrame:\")\n",
    "print(df_normalized)"
   ]
  },
  {
   "cell_type": "code",
   "execution_count": 30,
   "id": "94eb1712",
   "metadata": {},
   "outputs": [
    {
     "name": "stdout",
     "output_type": "stream",
     "text": [
      "              precision    recall  f1-score   support\n",
      "\n",
      "           0       0.00      0.00      0.00         1\n",
      "           1       0.95      0.95      0.95        21\n",
      "\n",
      "    accuracy                           0.91        22\n",
      "   macro avg       0.48      0.48      0.48        22\n",
      "weighted avg       0.91      0.91      0.91        22\n",
      "\n"
     ]
    }
   ],
   "source": [
    "# Prepare your features and target variable\n",
    "X = df.drop('severity', axis=1)  # Features\n",
    "y = df['severity']  # Target\n",
    "\n",
    "# Split the dataset\n",
    "X_train, X_test, y_train, y_test = train_test_split(X, y, test_size=0.2, random_state=42)\n",
    "\n",
    "# Apply SMOTE with a lower k_neighbors\n",
    "smote = SMOTE(random_state=42, k_neighbors=2)\n",
    "X_resampled, y_resampled = smote.fit_resample(X_train, y_train)\n",
    "\n",
    "# Train a Random Forest Classifier\n",
    "model = RandomForestClassifier()\n",
    "model.fit(X_resampled, y_resampled)\n",
    "\n",
    "# Evaluate the model\n",
    "y_pred = model.predict(X_test)\n",
    "print(classification_report(y_test, y_pred))"
   ]
  },
  {
   "cell_type": "code",
   "execution_count": 31,
   "id": "3c6cc7df",
   "metadata": {},
   "outputs": [
    {
     "name": "stdout",
     "output_type": "stream",
     "text": [
      "Class distribution in the target column:\n",
      " severity\n",
      "1    105\n",
      "0      5\n",
      "Name: count, dtype: int64\n",
      "Class imbalance ratio: 0.047619047619047616\n"
     ]
    }
   ],
   "source": [
    "# Step 1: Check distribution of classes in the target column\n",
    "target_counts = df['severity'].value_counts()\n",
    "print(\"Class distribution in the target column:\\n\", target_counts)\n",
    "\n",
    "# Step 2: Calculate class imbalance ratio (optional)\n",
    "imbalance_ratio = target_counts.min() / target_counts.max()\n",
    "print(\"Class imbalance ratio:\", imbalance_ratio)"
   ]
  },
  {
   "cell_type": "markdown",
   "id": "906c18aa",
   "metadata": {},
   "source": [
    "# 7. Correlation Analysis"
   ]
  },
  {
   "cell_type": "raw",
   "id": "d5e2d5c9",
   "metadata": {},
   "source": [
    "A heatmap is generated to visualize the correlation between numerical attributes. This helps to identify any strong relationships."
   ]
  },
  {
   "cell_type": "code",
   "execution_count": 32,
   "id": "b7d90677",
   "metadata": {},
   "outputs": [
    {
     "data": {
      "image/png": "[encoded data removed]",
      "text/plain": [
       "<Figure size 1000x800 with 2 Axes>"
      ]
     },
     "metadata": {},
     "output_type": "display_data"
    }
   ],
   "source": [
    "# Create a figure\n",
    "plt.figure(figsize=(10, 8))\n",
    "\n",
    "# Select only numeric columns\n",
    "numeric_df = df.select_dtypes(include=['float64', 'int64'])\n",
    "\n",
    "# Calculate the correlation matrix using the numeric DataFrame\n",
    "correlation_matrix = numeric_df.corr()\n",
    "\n",
    "# Plot the heatmap\n",
    "sns.heatmap(correlation_matrix, annot=True, cmap='coolwarm', fmt=\".2f\")\n",
    "plt.title('Correlation Matrix')\n",
    "plt.show()"
   ]
  },
  {
   "cell_type": "markdown",
   "id": "7bcb8458",
   "metadata": {},
   "source": [
    "# 8. Feature Selection / Feature Engineering"
   ]
  },
  {
   "cell_type": "raw",
   "id": "60b22344",
   "metadata": {},
   "source": [
    "Creating New Features: Derive new features from existing ones that may provide better insights (e.g., extracting the month from a date).\n",
    "Feature Selection: Use techniques such as correlation analysis, chi-square tests, or feature importance scores from models to select the most relevant features.\n",
    "Mutual Information:\n",
    "\n",
    "This technique quantifies the amount of information shared between each feature and the target variable, making it useful for capturing nonlinear relationships"
   ]
  },
  {
   "cell_type": "code",
   "execution_count": 33,
   "id": "0a9d4073",
   "metadata": {},
   "outputs": [],
   "source": [
    "# Load your data\n",
    "#df = pd.read_excel('data.xlsx')\n",
    "X = df.drop(columns=['severity'])\n",
    "y = df['severity']\n",
    "# Separate categorical and numerical features\n",
    "#categorical_features = X.select_dtypes(include=['object', 'category']).columns\n",
    "numerical_features = X.select_dtypes(include=['number']).columns"
   ]
  },
  {
   "cell_type": "code",
   "execution_count": 34,
   "id": "86a675f5",
   "metadata": {},
   "outputs": [
    {
     "name": "stdout",
     "output_type": "stream",
     "text": [
      "Selected features:\n",
      " Index(['causality_age', 'service_year', 'type_of_vehcle', 'casuality_class',\n",
      "       'time'],\n",
      "      dtype='object')\n",
      "Chi-square Scores:\n",
      " time               0.885195\n",
      "day                0.000154\n",
      "driv_age           0.004783\n",
      "sex                0.000437\n",
      "driv_expe          0.014537\n",
      "type_of_vehcle     0.925827\n",
      "service_year       1.240602\n",
      "location           0.229741\n",
      "road_cond          0.296703\n",
      "light_cond         0.230712\n",
      "weather_cond       0.277266\n",
      "casuality_class    0.886945\n",
      "causality_age      2.105341\n",
      "causality_sex      0.104022\n",
      "dtype: float64\n"
     ]
    }
   ],
   "source": [
    "# Apply Chi-square for numerical features (assuming y is categorical)\n",
    "chi2_selector = SelectKBest(chi2, k='all').fit(X[numerical_features], y)\n",
    "chi2_scores = pd.Series(chi2_selector.scores_, index=numerical_features)\n",
    "\n",
    "# Set a threshold and select top features\n",
    "threshold = 0.5  # Example threshold; adjust as needed\n",
    "top_features = chi2_scores[chi2_scores > threshold].sort_values(ascending=False)\n",
    "\n",
    "print(\"Selected features:\\n\", top_features.index)\n",
    "print(\"Chi-square Scores:\\n\", chi2_scores)"
   ]
  },
  {
   "cell_type": "code",
   "execution_count": 36,
   "id": "7173aae6",
   "metadata": {},
   "outputs": [
    {
     "data": {
      "image/png": "[encoded data removed]",
      "text/plain": [
       "<Figure size 1000x600 with 1 Axes>"
      ]
     },
     "metadata": {},
     "output_type": "display_data"
    },
    {
     "data": {
      "image/png": "[encoded data removed]",
      "text/plain": [
       "<Figure size 1200x600 with 1 Axes>"
      ]
     },
     "metadata": {},
     "output_type": "display_data"
    }
   ],
   "source": [
    "# Box Plot for 'causality_age' by 'casuality_class'\n",
    "plt.figure(figsize=(10, 6))\n",
    "sns.boxplot(data=df, x='casuality_class', y='causality_age', palette='viridis')\n",
    "plt.title('Box Plot of Causality Age by Casualty Class')\n",
    "plt.show()\n",
    "\n",
    "# Box Plot for 'service_year' by 'casuality_class'\n",
    "plt.figure(figsize=(12, 6))\n",
    "sns.boxplot(data=df, x='casuality_class', y='service_year', palette='viridis')\n",
    "plt.title('Box Plot of Service Year by Casualty Class')\n",
    "plt.show()\n",
    "\n"
   ]
  },
  {
   "cell_type": "code",
   "execution_count": null,
   "id": "5c2bde34",
   "metadata": {},
   "outputs": [],
   "source": []
  },
  {
   "cell_type": "code",
   "execution_count": null,
   "id": "a3c9fde5",
   "metadata": {},
   "outputs": [],
   "source": []
  }
 ],
 "metadata": {
  "kernelspec": {
   "display_name": "Python 3 (ipykernel)",
   "language": "python",
   "name": "python3"
  },
  "language_info": {
   "codemirror_mode": {
    "name": "ipython",
    "version": 3
   },
   "file_extension": ".py",
   "mimetype": "text/x-python",
   "name": "python",
   "nbconvert_exporter": "python",
   "pygments_lexer": "ipython3",
   "version": "3.11.7"
  }
 },
 "nbformat": 4,
 "nbformat_minor": 5
}
